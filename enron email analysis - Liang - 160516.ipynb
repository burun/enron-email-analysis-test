{
 "cells": [
  {
   "cell_type": "code",
   "execution_count": 1,
   "metadata": {
    "collapsed": true
   },
   "outputs": [],
   "source": [
    "import re\n",
    "import os\n",
    "\n",
    "%matplotlib inline\n",
    "\n",
    "import numpy as np\n",
    "import pandas as pd\n",
    "import pylab as P\n",
    "import matplotlib.pyplot as plt\n",
    "from sklearn.feature_extraction.text import CountVectorizer\n",
    "import nltk\n",
    "from nltk.probability import FreqDist"
   ]
  },
  {
   "cell_type": "code",
   "execution_count": 2,
   "metadata": {
    "collapsed": false
   },
   "outputs": [],
   "source": [
    "# with open('enron/allen-p/_sent_mail/6', 'r') as content_file:\n",
    "#     content = content_file.read()\n",
    "#     print(re.findall('[\\n\\r].*From: \\s*([^\\n\\r]*)', content)[0])\n",
    "#     print(re.findall('[\\n\\r].*To: \\s*([^\\n\\r]*)', content)[0])\n",
    "#     print(re.findall('Subject: (?s)(.*)Mime-Version', content)[0])\n",
    "# #     print(re.findall('[\\n\\r].*Date: \\s*([^\\n\\r]*)', content)[0])\n",
    "# #     text_original = re.findall(\"(?<=X-FileName: )[.|\\n|\\W|\\w]*\", content)[0]\n",
    "# #     text = text_original.replace('\\n', '')\n",
    "# #     print(text)"
   ]
  },
  {
   "cell_type": "code",
   "execution_count": 3,
   "metadata": {
    "collapsed": false
   },
   "outputs": [
    {
     "data": {
      "text/html": [
       "<div>\n",
       "<table border=\"1\" class=\"dataframe\">\n",
       "  <thead>\n",
       "    <tr style=\"text-align: right;\">\n",
       "      <th></th>\n",
       "      <th>From</th>\n",
       "      <th>To</th>\n",
       "      <th>Subject</th>\n",
       "      <th>Date</th>\n",
       "      <th>Text</th>\n",
       "    </tr>\n",
       "  </thead>\n",
       "  <tbody>\n",
       "    <tr>\n",
       "      <th>0</th>\n",
       "      <td>phillip.allen@enron.com</td>\n",
       "      <td>tim.belden@enron.com</td>\n",
       "      <td></td>\n",
       "      <td>Mon, 14 May 2001 16:39:00 -0700 (PDT)</td>\n",
       "      <td>Here is our forecast</td>\n",
       "    </tr>\n",
       "    <tr>\n",
       "      <th>1</th>\n",
       "      <td>phillip.allen@enron.com</td>\n",
       "      <td>john.lavorato@enron.com</td>\n",
       "      <td>Re:</td>\n",
       "      <td>Fri, 4 May 2001 13:51:00 -0700 (PDT)</td>\n",
       "      <td>Traveling to have a business meeting takes th...</td>\n",
       "    </tr>\n",
       "    <tr>\n",
       "      <th>2</th>\n",
       "      <td>phillip.allen@enron.com</td>\n",
       "      <td>leah.arsdall@enron.com</td>\n",
       "      <td>Re: test</td>\n",
       "      <td>Wed, 18 Oct 2000 03:00:00 -0700 (PDT)</td>\n",
       "      <td>test successful.  way to go!!!</td>\n",
       "    </tr>\n",
       "    <tr>\n",
       "      <th>3</th>\n",
       "      <td>phillip.allen@enron.com</td>\n",
       "      <td>randall.gay@enron.com</td>\n",
       "      <td></td>\n",
       "      <td>Mon, 23 Oct 2000 06:13:00 -0700 (PDT)</td>\n",
       "      <td>Randy, Can you send me a schedule of the sala...</td>\n",
       "    </tr>\n",
       "    <tr>\n",
       "      <th>4</th>\n",
       "      <td>phillip.allen@enron.com</td>\n",
       "      <td>greg.piper@enron.com</td>\n",
       "      <td>Re: Hello</td>\n",
       "      <td>Thu, 31 Aug 2000 05:07:00 -0700 (PDT)</td>\n",
       "      <td>Let's shoot for Tuesday at 11:45.</td>\n",
       "    </tr>\n",
       "    <tr>\n",
       "      <th>5</th>\n",
       "      <td>phillip.allen@enron.com</td>\n",
       "      <td>greg.piper@enron.com</td>\n",
       "      <td>Re: Hello</td>\n",
       "      <td>Thu, 31 Aug 2000 04:17:00 -0700 (PDT)</td>\n",
       "      <td>Greg, How about either next Tuesday or Thursd...</td>\n",
       "    </tr>\n",
       "    <tr>\n",
       "      <th>6</th>\n",
       "      <td>phillip.allen@enron.com</td>\n",
       "      <td>david.l.johnson@enron.com, john.shafer@enron.com</td>\n",
       "      <td></td>\n",
       "      <td>Tue, 22 Aug 2000 07:44:00 -0700 (PDT)</td>\n",
       "      <td>Please cc the following distribution list wit...</td>\n",
       "    </tr>\n",
       "    <tr>\n",
       "      <th>7</th>\n",
       "      <td>phillip.allen@enron.com</td>\n",
       "      <td>joyce.teixeira@enron.com</td>\n",
       "      <td>Re: PRC review - phone calls</td>\n",
       "      <td>Fri, 14 Jul 2000 06:59:00 -0700 (PDT)</td>\n",
       "      <td>any morning between 10 and 11:30</td>\n",
       "    </tr>\n",
       "    <tr>\n",
       "      <th>8</th>\n",
       "      <td>phillip.allen@enron.com</td>\n",
       "      <td>mark.scott@enron.com</td>\n",
       "      <td>Re: High Speed Internet Access</td>\n",
       "      <td>Tue, 17 Oct 2000 02:26:00 -0700 (PDT)</td>\n",
       "      <td>1. login:  pallen pw: ke9davis I don't think ...</td>\n",
       "    </tr>\n",
       "    <tr>\n",
       "      <th>9</th>\n",
       "      <td>phillip.allen@enron.com</td>\n",
       "      <td>zimam@enron.com</td>\n",
       "      <td>FW: fixed forward or other Collar floor gas pr...</td>\n",
       "      <td>Mon, 16 Oct 2000 06:44:00 -0700 (PDT)</td>\n",
       "      <td>---------------------- Forwarded by Phillip K...</td>\n",
       "    </tr>\n",
       "  </tbody>\n",
       "</table>\n",
       "</div>"
      ],
      "text/plain": [
       "                      From                                                To  \\\n",
       "0  phillip.allen@enron.com                              tim.belden@enron.com   \n",
       "1  phillip.allen@enron.com                           john.lavorato@enron.com   \n",
       "2  phillip.allen@enron.com                            leah.arsdall@enron.com   \n",
       "3  phillip.allen@enron.com                             randall.gay@enron.com   \n",
       "4  phillip.allen@enron.com                              greg.piper@enron.com   \n",
       "5  phillip.allen@enron.com                              greg.piper@enron.com   \n",
       "6  phillip.allen@enron.com  david.l.johnson@enron.com, john.shafer@enron.com   \n",
       "7  phillip.allen@enron.com                          joyce.teixeira@enron.com   \n",
       "8  phillip.allen@enron.com                              mark.scott@enron.com   \n",
       "9  phillip.allen@enron.com                                   zimam@enron.com   \n",
       "\n",
       "                                             Subject  \\\n",
       "0                                                      \n",
       "1                                                Re:   \n",
       "2                                           Re: test   \n",
       "3                                                      \n",
       "4                                          Re: Hello   \n",
       "5                                          Re: Hello   \n",
       "6                                                      \n",
       "7                       Re: PRC review - phone calls   \n",
       "8                     Re: High Speed Internet Access   \n",
       "9  FW: fixed forward or other Collar floor gas pr...   \n",
       "\n",
       "                                    Date  \\\n",
       "0  Mon, 14 May 2001 16:39:00 -0700 (PDT)   \n",
       "1   Fri, 4 May 2001 13:51:00 -0700 (PDT)   \n",
       "2  Wed, 18 Oct 2000 03:00:00 -0700 (PDT)   \n",
       "3  Mon, 23 Oct 2000 06:13:00 -0700 (PDT)   \n",
       "4  Thu, 31 Aug 2000 05:07:00 -0700 (PDT)   \n",
       "5  Thu, 31 Aug 2000 04:17:00 -0700 (PDT)   \n",
       "6  Tue, 22 Aug 2000 07:44:00 -0700 (PDT)   \n",
       "7  Fri, 14 Jul 2000 06:59:00 -0700 (PDT)   \n",
       "8  Tue, 17 Oct 2000 02:26:00 -0700 (PDT)   \n",
       "9  Mon, 16 Oct 2000 06:44:00 -0700 (PDT)   \n",
       "\n",
       "                                                Text  \n",
       "0                              Here is our forecast   \n",
       "1   Traveling to have a business meeting takes th...  \n",
       "2                     test successful.  way to go!!!  \n",
       "3   Randy, Can you send me a schedule of the sala...  \n",
       "4                Let's shoot for Tuesday at 11:45.    \n",
       "5   Greg, How about either next Tuesday or Thursd...  \n",
       "6   Please cc the following distribution list wit...  \n",
       "7                   any morning between 10 and 11:30  \n",
       "8   1. login:  pallen pw: ke9davis I don't think ...  \n",
       "9   ---------------------- Forwarded by Phillip K...  "
      ]
     },
     "execution_count": 3,
     "metadata": {},
     "output_type": "execute_result"
    }
   ],
   "source": [
    "path = 'enron/allen-p/_sent_mail/'\n",
    "\n",
    "from_list = []\n",
    "to_list = []\n",
    "subject_list = []\n",
    "date_list = []\n",
    "text_list = []\n",
    "\n",
    "for file in os.listdir(path):\n",
    "    with open(os.path.join(path, file), 'r') as content_file:\n",
    "        content = content_file.read()\n",
    "        from_list.append(re.findall('[\\n\\r].*From: \\s*([^\\n\\r]*)', content)[0])\n",
    "        to_list.append(re.findall('[\\n\\r].*To: \\s*([^\\n\\r]*)', content)[0])\n",
    "        subject = re.findall('Subject: (?s)(.*)Mime-Version', content)[0]\n",
    "        subject = subject.replace('\\n', '')\n",
    "        subject_list.append(subject)\n",
    "        date_list.append(re.findall('[\\n\\r].*Date: \\s*([^\\n\\r]*)', content)[0])\n",
    "        text_original = re.findall(\"(?<=X-FileName:)[.|\\n|\\W|\\w]*\", content)[0]\n",
    "        text = text_original.replace('\\n', '')\n",
    "        text = text.replace('pallen (Non-Privileged).pst', '')\n",
    "        text = text.replace('pallen.nsf', '')\n",
    "        text_list.append(text)\n",
    "\n",
    "data = {'From': from_list, 'To': to_list, 'Subject': subject_list, 'Date': date_list, 'Text': text_list}\n",
    "\n",
    "df = pd.DataFrame(data, columns=['From', 'To', 'Subject', 'Date', 'Text'])\n",
    "df.head(10)      \n"
   ]
  },
  {
   "cell_type": "code",
   "execution_count": 4,
   "metadata": {
    "collapsed": false
   },
   "outputs": [
    {
     "name": "stdout",
     "output_type": "stream",
     "text": [
      "<class 'pandas.core.frame.DataFrame'>\n",
      "Int64Index: 602 entries, 0 to 601\n",
      "Data columns (total 5 columns):\n",
      "From       602 non-null object\n",
      "To         602 non-null object\n",
      "Subject    602 non-null object\n",
      "Date       602 non-null object\n",
      "Text       602 non-null object\n",
      "dtypes: object(5)\n",
      "memory usage: 16.5+ KB\n"
     ]
    }
   ],
   "source": [
    "df.info()"
   ]
  },
  {
   "cell_type": "code",
   "execution_count": 5,
   "metadata": {
    "collapsed": false
   },
   "outputs": [
    {
     "data": {
      "text/html": [
       "<div>\n",
       "<table border=\"1\" class=\"dataframe\">\n",
       "  <thead>\n",
       "    <tr style=\"text-align: right;\">\n",
       "      <th></th>\n",
       "      <th>From</th>\n",
       "      <th>To</th>\n",
       "      <th>Subject</th>\n",
       "      <th>Date</th>\n",
       "      <th>Text</th>\n",
       "    </tr>\n",
       "  </thead>\n",
       "  <tbody>\n",
       "    <tr>\n",
       "      <th>count</th>\n",
       "      <td>602</td>\n",
       "      <td>602</td>\n",
       "      <td>602</td>\n",
       "      <td>602</td>\n",
       "      <td>602</td>\n",
       "    </tr>\n",
       "    <tr>\n",
       "      <th>unique</th>\n",
       "      <td>2</td>\n",
       "      <td>206</td>\n",
       "      <td>324</td>\n",
       "      <td>593</td>\n",
       "      <td>580</td>\n",
       "    </tr>\n",
       "    <tr>\n",
       "      <th>top</th>\n",
       "      <td>phillip.allen@enron.com</td>\n",
       "      <td>stagecoachmama@hotmail.com</td>\n",
       "      <td></td>\n",
       "      <td>Mon, 25 Sep 2000 07:01:00 -0700 (PDT)</td>\n",
       "      <td>Have him send his resume to Karen Buckley in ...</td>\n",
       "    </tr>\n",
       "    <tr>\n",
       "      <th>freq</th>\n",
       "      <td>598</td>\n",
       "      <td>40</td>\n",
       "      <td>175</td>\n",
       "      <td>2</td>\n",
       "      <td>2</td>\n",
       "    </tr>\n",
       "  </tbody>\n",
       "</table>\n",
       "</div>"
      ],
      "text/plain": [
       "                           From                          To Subject  \\\n",
       "count                       602                         602     602   \n",
       "unique                        2                         206     324   \n",
       "top     phillip.allen@enron.com  stagecoachmama@hotmail.com           \n",
       "freq                        598                          40     175   \n",
       "\n",
       "                                         Date  \\\n",
       "count                                     602   \n",
       "unique                                    593   \n",
       "top     Mon, 25 Sep 2000 07:01:00 -0700 (PDT)   \n",
       "freq                                        2   \n",
       "\n",
       "                                                     Text  \n",
       "count                                                 602  \n",
       "unique                                                580  \n",
       "top      Have him send his resume to Karen Buckley in ...  \n",
       "freq                                                    2  "
      ]
     },
     "execution_count": 5,
     "metadata": {},
     "output_type": "execute_result"
    }
   ],
   "source": [
    "df.describe()"
   ]
  },
  {
   "cell_type": "code",
   "execution_count": 6,
   "metadata": {
    "collapsed": false
   },
   "outputs": [
    {
     "data": {
      "text/plain": [
       "stagecoachmama@hotmail.com                       40\n",
       "jsmith@austintx.com                              38\n",
       "ina.rangel@enron.com                             37\n",
       "pallen70@hotmail.com                             28\n",
       "keith.holst@enron.com                            24\n",
       "cbpres@austin.rr.com                             20\n",
       "john.lavorato@enron.com                          16\n",
       "maryrichards7@hotmail.com                        15\n",
       "jacquestc@aol.com                                14\n",
       "mike.grigsby@enron.com                           13\n",
       "llewter@austin.rr.com                            10\n",
       "rlehmann@yahoo.com                                8\n",
       "stouchstone@natsource.com                         7\n",
       "jeff.richter@enron.com                            6\n",
       "mike.grigsby@enron.com, keith.holst@enron.com     6\n",
       "mac.d.hargrove@rssmb.com                          6\n",
       "matthew.lenhart@enron.com                         6\n",
       "andrea.richards@enron.com                         6\n",
       "tim.belden@enron.com                              5\n",
       "al.pollard@enron.com                              5\n",
       "Name: To, dtype: int64"
      ]
     },
     "execution_count": 6,
     "metadata": {},
     "output_type": "execute_result"
    }
   ],
   "source": [
    "df_to = df.dropna(subset=['To'])\n",
    "df['To'].value_counts()[:20]"
   ]
  },
  {
   "cell_type": "code",
   "execution_count": 7,
   "metadata": {
    "collapsed": false
   },
   "outputs": [
    {
     "data": {
      "text/html": [
       "<div>\n",
       "<table border=\"1\" class=\"dataframe\">\n",
       "  <thead>\n",
       "    <tr style=\"text-align: right;\">\n",
       "      <th></th>\n",
       "      <th>From</th>\n",
       "      <th>To</th>\n",
       "      <th>Subject</th>\n",
       "      <th>Date</th>\n",
       "      <th>Text</th>\n",
       "      <th>ToOrganization</th>\n",
       "      <th>Contact</th>\n",
       "    </tr>\n",
       "  </thead>\n",
       "  <tbody>\n",
       "    <tr>\n",
       "      <th>0</th>\n",
       "      <td>phillip.allen@enron.com</td>\n",
       "      <td>tim.belden@enron.com</td>\n",
       "      <td></td>\n",
       "      <td>Mon, 14 May 2001 16:39:00 -0700 (PDT)</td>\n",
       "      <td>Here is our forecast</td>\n",
       "      <td>enron</td>\n",
       "      <td>tim.belden</td>\n",
       "    </tr>\n",
       "    <tr>\n",
       "      <th>1</th>\n",
       "      <td>phillip.allen@enron.com</td>\n",
       "      <td>john.lavorato@enron.com</td>\n",
       "      <td>Re:</td>\n",
       "      <td>Fri, 4 May 2001 13:51:00 -0700 (PDT)</td>\n",
       "      <td>Traveling to have a business meeting takes th...</td>\n",
       "      <td>enron</td>\n",
       "      <td>john.lavorato</td>\n",
       "    </tr>\n",
       "    <tr>\n",
       "      <th>2</th>\n",
       "      <td>phillip.allen@enron.com</td>\n",
       "      <td>leah.arsdall@enron.com</td>\n",
       "      <td>Re: test</td>\n",
       "      <td>Wed, 18 Oct 2000 03:00:00 -0700 (PDT)</td>\n",
       "      <td>test successful.  way to go!!!</td>\n",
       "      <td>enron</td>\n",
       "      <td>leah.arsdall</td>\n",
       "    </tr>\n",
       "    <tr>\n",
       "      <th>3</th>\n",
       "      <td>phillip.allen@enron.com</td>\n",
       "      <td>randall.gay@enron.com</td>\n",
       "      <td></td>\n",
       "      <td>Mon, 23 Oct 2000 06:13:00 -0700 (PDT)</td>\n",
       "      <td>Randy, Can you send me a schedule of the sala...</td>\n",
       "      <td>enron</td>\n",
       "      <td>randall.gay</td>\n",
       "    </tr>\n",
       "    <tr>\n",
       "      <th>4</th>\n",
       "      <td>phillip.allen@enron.com</td>\n",
       "      <td>greg.piper@enron.com</td>\n",
       "      <td>Re: Hello</td>\n",
       "      <td>Thu, 31 Aug 2000 05:07:00 -0700 (PDT)</td>\n",
       "      <td>Let's shoot for Tuesday at 11:45.</td>\n",
       "      <td>enron</td>\n",
       "      <td>greg.piper</td>\n",
       "    </tr>\n",
       "  </tbody>\n",
       "</table>\n",
       "</div>"
      ],
      "text/plain": [
       "                      From                       To    Subject  \\\n",
       "0  phillip.allen@enron.com     tim.belden@enron.com              \n",
       "1  phillip.allen@enron.com  john.lavorato@enron.com        Re:   \n",
       "2  phillip.allen@enron.com   leah.arsdall@enron.com   Re: test   \n",
       "3  phillip.allen@enron.com    randall.gay@enron.com              \n",
       "4  phillip.allen@enron.com     greg.piper@enron.com  Re: Hello   \n",
       "\n",
       "                                    Date  \\\n",
       "0  Mon, 14 May 2001 16:39:00 -0700 (PDT)   \n",
       "1   Fri, 4 May 2001 13:51:00 -0700 (PDT)   \n",
       "2  Wed, 18 Oct 2000 03:00:00 -0700 (PDT)   \n",
       "3  Mon, 23 Oct 2000 06:13:00 -0700 (PDT)   \n",
       "4  Thu, 31 Aug 2000 05:07:00 -0700 (PDT)   \n",
       "\n",
       "                                                Text ToOrganization  \\\n",
       "0                              Here is our forecast           enron   \n",
       "1   Traveling to have a business meeting takes th...          enron   \n",
       "2                     test successful.  way to go!!!          enron   \n",
       "3   Randy, Can you send me a schedule of the sala...          enron   \n",
       "4                Let's shoot for Tuesday at 11:45.            enron   \n",
       "\n",
       "         Contact  \n",
       "0     tim.belden  \n",
       "1  john.lavorato  \n",
       "2   leah.arsdall  \n",
       "3    randall.gay  \n",
       "4     greg.piper  "
      ]
     },
     "execution_count": 7,
     "metadata": {},
     "output_type": "execute_result"
    }
   ],
   "source": [
    "pattern = r'([A-Z0-9._%+-]+)@([A-Z0-9.-]+)\\.([A-Z]{2,4})'\n",
    "regex = re.compile(pattern, flags=re.IGNORECASE)\n",
    "organizations = []\n",
    "contact = []\n",
    "for email in df['To']:\n",
    "    if regex.match(email):\n",
    "        organizations.append(regex.match(email).groups()[1])\n",
    "        contact.append(regex.match(email).groups()[0])\n",
    "    else:\n",
    "        organizations.append('')\n",
    "        contact.append('')\n",
    "\n",
    "df['ToOrganization'] = organizations\n",
    "df['Contact'] = contact\n",
    "df.head()"
   ]
  },
  {
   "cell_type": "code",
   "execution_count": 8,
   "metadata": {
    "collapsed": false
   },
   "outputs": [
    {
     "data": {
      "text/plain": [
       "enron                343\n",
       "hotmail               87\n",
       "austintx              38\n",
       "austin.rr             32\n",
       "aol                   14\n",
       "yahoo                 12\n",
       "natsource              7\n",
       "keyad                  7\n",
       "intelligencepress      7\n",
       "rssmb                  6\n",
       "creativepanel          4\n",
       "caprock                4\n",
       "thedoghousemail        3\n",
       "webtv                  3\n",
       "ev1                    2\n",
       "pdq                    2\n",
       "spbank                 2\n",
       "sempratrading          2\n",
       "thermon                2\n",
       "juno                   2\n",
       "Name: ToOrganization, dtype: int64"
      ]
     },
     "execution_count": 8,
     "metadata": {},
     "output_type": "execute_result"
    }
   ],
   "source": [
    "df['ToOrganization'].value_counts()[:20]"
   ]
  },
  {
   "cell_type": "code",
   "execution_count": 9,
   "metadata": {
    "collapsed": false
   },
   "outputs": [
    {
     "data": {
      "text/plain": [
       "stagecoachmama     40\n",
       "ina.rangel         38\n",
       "jsmith             38\n",
       "mike.grigsby       30\n",
       "pallen70           28\n",
       "keith.holst        28\n",
       "cbpres             22\n",
       "john.lavorato      16\n",
       "maryrichards7      15\n",
       "jacquestc          14\n",
       "matthew.lenhart    12\n",
       "llewter            11\n",
       "jeff.richter        9\n",
       "rlehmann            8\n",
       "stouchstone         7\n",
       "gthorse             6\n",
       "mac.d.hargrove      6\n",
       "tim.belden          6\n",
       "andrea.richards     6\n",
       "tara.sweitzer       5\n",
       "Name: Contact, dtype: int64"
      ]
     },
     "execution_count": 9,
     "metadata": {},
     "output_type": "execute_result"
    }
   ],
   "source": [
    "df['Contact'].value_counts()[:20]"
   ]
  },
  {
   "cell_type": "code",
   "execution_count": 10,
   "metadata": {
    "collapsed": false
   },
   "outputs": [
    {
     "name": "stdout",
     "output_type": "stream",
     "text": [
      "dict_keys(['Can', 'sala', 'schedule', 'me', 'of', ',', 'a', 'you', 'the', 'send', 'Randy'])\n"
     ]
    }
   ],
   "source": [
    "# Email text analysis\n",
    "words = nltk.tokenize.word_tokenize('Randy, Can you send me a schedule of the sala')\n",
    "fdist = FreqDist(words)\n",
    "print(fdist.keys())"
   ]
  },
  {
   "cell_type": "code",
   "execution_count": null,
   "metadata": {
    "collapsed": true
   },
   "outputs": [],
   "source": []
  }
 ],
 "metadata": {
  "kernelspec": {
   "display_name": "Python 3",
   "language": "python",
   "name": "python3"
  },
  "language_info": {
   "codemirror_mode": {
    "name": "ipython",
    "version": 3
   },
   "file_extension": ".py",
   "mimetype": "text/x-python",
   "name": "python",
   "nbconvert_exporter": "python",
   "pygments_lexer": "ipython3",
   "version": "3.4.3"
  }
 },
 "nbformat": 4,
 "nbformat_minor": 0
}
