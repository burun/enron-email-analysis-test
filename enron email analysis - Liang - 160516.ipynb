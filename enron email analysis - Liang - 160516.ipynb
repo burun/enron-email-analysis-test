{
 "cells": [
  {
   "cell_type": "code",
   "execution_count": 1,
   "metadata": {
    "collapsed": false
   },
   "outputs": [],
   "source": [
    "import re\n",
    "import os\n",
    "import string\n",
    "\n",
    "%matplotlib inline\n",
    "\n",
    "import numpy as np\n",
    "import pandas as pd\n",
    "import pylab as P\n",
    "import matplotlib.pyplot as plt\n",
    "import nltk\n",
    "from nltk.probability import FreqDist\n",
    "from nltk.corpus import stopwords\n",
    "from nltk.stem.porter import *\n",
    "from nltk.stem.lancaster import LancasterStemmer\n",
    "from collections import Counter\n",
    "\n",
    "plt.style.use('ggplot')\n",
    "plt.rcParams['font.size'] = 15\n",
    "pd.set_option('max_colwidth',30)"
   ]
  },
  {
   "cell_type": "markdown",
   "metadata": {},
   "source": [
    "## Read the emails files in allen-p folder and build dataframe"
   ]
  },
  {
   "cell_type": "code",
   "execution_count": 2,
   "metadata": {
    "collapsed": false
   },
   "outputs": [],
   "source": [
    "path = 'enron/allen-p/_sent_mail/'\n",
    "\n",
    "# To extract five data: email from, enail to, subject, email text, sent date\n",
    "from_list = []\n",
    "to_list = []\n",
    "subject_list = []\n",
    "date_list = []\n",
    "text_list = []\n",
    "\n",
    "# Regular expression to extract data\n",
    "for file in os.listdir(path):\n",
    "    with open(os.path.join(path, file), 'r') as content_file:\n",
    "        content = content_file.read()\n",
    "        # From\n",
    "        from_list.append(re.findall('[\\n\\r].*From: \\s*([^\\n\\r]*)', content)[0])\n",
    "        # To\n",
    "        to_list.append(re.findall('[\\n\\r].*To: \\s*([^\\n\\r]*)', content)[0])\n",
    "        # Subject\n",
    "        subject = re.findall('Subject: (?s)(.*)Mime-Version', content)[0]\n",
    "        subject = subject.replace('\\n', '')\n",
    "        subject_list.append(subject)\n",
    "        # Date\n",
    "        date_list.append(re.findall('[\\n\\r].*Date: \\s*([^\\n\\r]*)', content)[0])\n",
    "        # Email text\n",
    "        text_original = re.findall(\"(?<=X-FileName:)[.|\\n|\\W|\\w]*\", content)[0]\n",
    "        text = text_original.replace('\\n', '')\n",
    "        text = text.replace('pallen (Non-Privileged).pst', '')\n",
    "        text = text.replace('pallen.nsf', '')\n",
    "        text_list.append(text)\n",
    "\n",
    "# Using 5 lists to build Pandas DataFrame\n",
    "data = {'From': from_list, 'To': to_list, 'Subject': subject_list, 'Date': date_list, 'Text': text_list}\n",
    "\n",
    "df = pd.DataFrame(data, columns=['From', 'To', 'Subject', 'Date', 'Text'])\n",
    "df = df.replace('', np.nan, regex=True)"
   ]
  },
  {
   "cell_type": "markdown",
   "metadata": {},
   "source": [
    "## The first 10 rows in the DataFrame, with 5 columns"
   ]
  },
  {
   "cell_type": "code",
   "execution_count": 3,
   "metadata": {
    "collapsed": false
   },
   "outputs": [
    {
     "data": {
      "text/html": [
       "<div>\n",
       "<table border=\"1\" class=\"dataframe\">\n",
       "  <thead>\n",
       "    <tr style=\"text-align: right;\">\n",
       "      <th></th>\n",
       "      <th>From</th>\n",
       "      <th>To</th>\n",
       "      <th>Subject</th>\n",
       "      <th>Date</th>\n",
       "      <th>Text</th>\n",
       "    </tr>\n",
       "  </thead>\n",
       "  <tbody>\n",
       "    <tr>\n",
       "      <th>0</th>\n",
       "      <td>phillip.allen@enron.com</td>\n",
       "      <td>tim.belden@enron.com</td>\n",
       "      <td>NaN</td>\n",
       "      <td>Mon, 14 May 2001 16:39:00 ...</td>\n",
       "      <td>Here is our forecast</td>\n",
       "    </tr>\n",
       "    <tr>\n",
       "      <th>1</th>\n",
       "      <td>phillip.allen@enron.com</td>\n",
       "      <td>john.lavorato@enron.com</td>\n",
       "      <td>Re:</td>\n",
       "      <td>Fri, 4 May 2001 13:51:00 -...</td>\n",
       "      <td>Traveling to have a busin...</td>\n",
       "    </tr>\n",
       "    <tr>\n",
       "      <th>2</th>\n",
       "      <td>phillip.allen@enron.com</td>\n",
       "      <td>leah.arsdall@enron.com</td>\n",
       "      <td>Re: test</td>\n",
       "      <td>Wed, 18 Oct 2000 03:00:00 ...</td>\n",
       "      <td>test successful.  way to ...</td>\n",
       "    </tr>\n",
       "    <tr>\n",
       "      <th>3</th>\n",
       "      <td>phillip.allen@enron.com</td>\n",
       "      <td>randall.gay@enron.com</td>\n",
       "      <td>NaN</td>\n",
       "      <td>Mon, 23 Oct 2000 06:13:00 ...</td>\n",
       "      <td>Randy, Can you send me a ...</td>\n",
       "    </tr>\n",
       "    <tr>\n",
       "      <th>4</th>\n",
       "      <td>phillip.allen@enron.com</td>\n",
       "      <td>greg.piper@enron.com</td>\n",
       "      <td>Re: Hello</td>\n",
       "      <td>Thu, 31 Aug 2000 05:07:00 ...</td>\n",
       "      <td>Let's shoot for Tuesday a...</td>\n",
       "    </tr>\n",
       "    <tr>\n",
       "      <th>5</th>\n",
       "      <td>phillip.allen@enron.com</td>\n",
       "      <td>greg.piper@enron.com</td>\n",
       "      <td>Re: Hello</td>\n",
       "      <td>Thu, 31 Aug 2000 04:17:00 ...</td>\n",
       "      <td>Greg, How about either ne...</td>\n",
       "    </tr>\n",
       "    <tr>\n",
       "      <th>6</th>\n",
       "      <td>phillip.allen@enron.com</td>\n",
       "      <td>david.l.johnson@enron.com,...</td>\n",
       "      <td>NaN</td>\n",
       "      <td>Tue, 22 Aug 2000 07:44:00 ...</td>\n",
       "      <td>Please cc the following d...</td>\n",
       "    </tr>\n",
       "    <tr>\n",
       "      <th>7</th>\n",
       "      <td>phillip.allen@enron.com</td>\n",
       "      <td>joyce.teixeira@enron.com</td>\n",
       "      <td>Re: PRC review - phone calls</td>\n",
       "      <td>Fri, 14 Jul 2000 06:59:00 ...</td>\n",
       "      <td>any morning between 10 an...</td>\n",
       "    </tr>\n",
       "    <tr>\n",
       "      <th>8</th>\n",
       "      <td>phillip.allen@enron.com</td>\n",
       "      <td>mark.scott@enron.com</td>\n",
       "      <td>Re: High Speed Internet Ac...</td>\n",
       "      <td>Tue, 17 Oct 2000 02:26:00 ...</td>\n",
       "      <td>1. login:  pallen pw: ke9...</td>\n",
       "    </tr>\n",
       "    <tr>\n",
       "      <th>9</th>\n",
       "      <td>phillip.allen@enron.com</td>\n",
       "      <td>zimam@enron.com</td>\n",
       "      <td>FW: fixed forward or other...</td>\n",
       "      <td>Mon, 16 Oct 2000 06:44:00 ...</td>\n",
       "      <td>---------------------- Fo...</td>\n",
       "    </tr>\n",
       "  </tbody>\n",
       "</table>\n",
       "</div>"
      ],
      "text/plain": [
       "                      From                             To  \\\n",
       "0  phillip.allen@enron.com           tim.belden@enron.com   \n",
       "1  phillip.allen@enron.com        john.lavorato@enron.com   \n",
       "2  phillip.allen@enron.com         leah.arsdall@enron.com   \n",
       "3  phillip.allen@enron.com          randall.gay@enron.com   \n",
       "4  phillip.allen@enron.com           greg.piper@enron.com   \n",
       "5  phillip.allen@enron.com           greg.piper@enron.com   \n",
       "6  phillip.allen@enron.com  david.l.johnson@enron.com,...   \n",
       "7  phillip.allen@enron.com       joyce.teixeira@enron.com   \n",
       "8  phillip.allen@enron.com           mark.scott@enron.com   \n",
       "9  phillip.allen@enron.com                zimam@enron.com   \n",
       "\n",
       "                         Subject                           Date  \\\n",
       "0                            NaN  Mon, 14 May 2001 16:39:00 ...   \n",
       "1                            Re:  Fri, 4 May 2001 13:51:00 -...   \n",
       "2                       Re: test  Wed, 18 Oct 2000 03:00:00 ...   \n",
       "3                            NaN  Mon, 23 Oct 2000 06:13:00 ...   \n",
       "4                      Re: Hello  Thu, 31 Aug 2000 05:07:00 ...   \n",
       "5                      Re: Hello  Thu, 31 Aug 2000 04:17:00 ...   \n",
       "6                            NaN  Tue, 22 Aug 2000 07:44:00 ...   \n",
       "7   Re: PRC review - phone calls  Fri, 14 Jul 2000 06:59:00 ...   \n",
       "8  Re: High Speed Internet Ac...  Tue, 17 Oct 2000 02:26:00 ...   \n",
       "9  FW: fixed forward or other...  Mon, 16 Oct 2000 06:44:00 ...   \n",
       "\n",
       "                            Text  \n",
       "0          Here is our forecast   \n",
       "1   Traveling to have a busin...  \n",
       "2   test successful.  way to ...  \n",
       "3   Randy, Can you send me a ...  \n",
       "4   Let's shoot for Tuesday a...  \n",
       "5   Greg, How about either ne...  \n",
       "6   Please cc the following d...  \n",
       "7   any morning between 10 an...  \n",
       "8   1. login:  pallen pw: ke9...  \n",
       "9   ---------------------- Fo...  "
      ]
     },
     "execution_count": 3,
     "metadata": {},
     "output_type": "execute_result"
    }
   ],
   "source": [
    "df.head(10)"
   ]
  },
  {
   "cell_type": "markdown",
   "metadata": {},
   "source": [
    "## Have a look at the basic information in DataFrame\n",
    "- 602 emails, 175 of which have no subjects"
   ]
  },
  {
   "cell_type": "code",
   "execution_count": 4,
   "metadata": {
    "collapsed": false
   },
   "outputs": [
    {
     "name": "stdout",
     "output_type": "stream",
     "text": [
      "<class 'pandas.core.frame.DataFrame'>\n",
      "Int64Index: 602 entries, 0 to 601\n",
      "Data columns (total 5 columns):\n",
      "From       602 non-null object\n",
      "To         602 non-null object\n",
      "Subject    427 non-null object\n",
      "Date       602 non-null object\n",
      "Text       602 non-null object\n",
      "dtypes: object(5)\n",
      "memory usage: 16.5+ KB\n"
     ]
    }
   ],
   "source": [
    "df.info()"
   ]
  },
  {
   "cell_type": "markdown",
   "metadata": {},
   "source": [
    "## Look at each column\n",
    "- phillip.allen used 2 email address, mostly \"phillip.allen@enron.com\"\n",
    "- phillip.allen sent to 206 addresses, the most cotact is \"stagecoachmama\"\n",
    "- phillip.allen sent 2 emails per day at most"
   ]
  },
  {
   "cell_type": "code",
   "execution_count": 5,
   "metadata": {
    "collapsed": false
   },
   "outputs": [
    {
     "data": {
      "text/html": [
       "<div>\n",
       "<table border=\"1\" class=\"dataframe\">\n",
       "  <thead>\n",
       "    <tr style=\"text-align: right;\">\n",
       "      <th></th>\n",
       "      <th>From</th>\n",
       "      <th>To</th>\n",
       "      <th>Subject</th>\n",
       "      <th>Date</th>\n",
       "      <th>Text</th>\n",
       "    </tr>\n",
       "  </thead>\n",
       "  <tbody>\n",
       "    <tr>\n",
       "      <th>count</th>\n",
       "      <td>602</td>\n",
       "      <td>602</td>\n",
       "      <td>427</td>\n",
       "      <td>602</td>\n",
       "      <td>602</td>\n",
       "    </tr>\n",
       "    <tr>\n",
       "      <th>unique</th>\n",
       "      <td>2</td>\n",
       "      <td>206</td>\n",
       "      <td>323</td>\n",
       "      <td>593</td>\n",
       "      <td>580</td>\n",
       "    </tr>\n",
       "    <tr>\n",
       "      <th>top</th>\n",
       "      <td>phillip.allen@enron.com</td>\n",
       "      <td>stagecoachmama@hotmail.com</td>\n",
       "      <td>Re:</td>\n",
       "      <td>Tue, 6 Jun 2000 05:27:00 -...</td>\n",
       "      <td>Johnnie,Thank you for mee...</td>\n",
       "    </tr>\n",
       "    <tr>\n",
       "      <th>freq</th>\n",
       "      <td>598</td>\n",
       "      <td>40</td>\n",
       "      <td>30</td>\n",
       "      <td>2</td>\n",
       "      <td>2</td>\n",
       "    </tr>\n",
       "  </tbody>\n",
       "</table>\n",
       "</div>"
      ],
      "text/plain": [
       "                           From                          To Subject  \\\n",
       "count                       602                         602     427   \n",
       "unique                        2                         206     323   \n",
       "top     phillip.allen@enron.com  stagecoachmama@hotmail.com     Re:   \n",
       "freq                        598                          40      30   \n",
       "\n",
       "                                 Date                           Text  \n",
       "count                             602                            602  \n",
       "unique                            593                            580  \n",
       "top     Tue, 6 Jun 2000 05:27:00 -...   Johnnie,Thank you for mee...  \n",
       "freq                                2                              2  "
      ]
     },
     "execution_count": 5,
     "metadata": {},
     "output_type": "execute_result"
    }
   ],
   "source": [
    "df.describe()"
   ]
  },
  {
   "cell_type": "markdown",
   "metadata": {},
   "source": [
    "## To calsulate the frequencies of emails sent to"
   ]
  },
  {
   "cell_type": "code",
   "execution_count": 6,
   "metadata": {
    "collapsed": false
   },
   "outputs": [
    {
     "data": {
      "text/plain": [
       "stagecoachmama@hotmail.com                       40\n",
       "jsmith@austintx.com                              38\n",
       "ina.rangel@enron.com                             37\n",
       "pallen70@hotmail.com                             28\n",
       "keith.holst@enron.com                            24\n",
       "cbpres@austin.rr.com                             20\n",
       "john.lavorato@enron.com                          16\n",
       "maryrichards7@hotmail.com                        15\n",
       "jacquestc@aol.com                                14\n",
       "mike.grigsby@enron.com                           13\n",
       "llewter@austin.rr.com                            10\n",
       "rlehmann@yahoo.com                                8\n",
       "stouchstone@natsource.com                         7\n",
       "jeff.richter@enron.com                            6\n",
       "mac.d.hargrove@rssmb.com                          6\n",
       "matthew.lenhart@enron.com                         6\n",
       "andrea.richards@enron.com                         6\n",
       "mike.grigsby@enron.com, keith.holst@enron.com     6\n",
       "gthorse@keyad.com                                 5\n",
       "al.pollard@enron.com                              5\n",
       "Name: To, dtype: int64"
      ]
     },
     "execution_count": 6,
     "metadata": {},
     "output_type": "execute_result"
    }
   ],
   "source": [
    "df_to = df.dropna(subset=['To'])\n",
    "\n",
    "# select the top 20\n",
    "df['To'].value_counts()[:20]"
   ]
  },
  {
   "cell_type": "markdown",
   "metadata": {},
   "source": [
    "## Extract features from email address\n",
    "- domain name of each email address\n",
    "- contact name or user name of each email address\n",
    "- add 2 new columns"
   ]
  },
  {
   "cell_type": "code",
   "execution_count": 7,
   "metadata": {
    "collapsed": false
   },
   "outputs": [
    {
     "data": {
      "text/html": [
       "<div>\n",
       "<table border=\"1\" class=\"dataframe\">\n",
       "  <thead>\n",
       "    <tr style=\"text-align: right;\">\n",
       "      <th></th>\n",
       "      <th>From</th>\n",
       "      <th>To</th>\n",
       "      <th>Subject</th>\n",
       "      <th>Date</th>\n",
       "      <th>Text</th>\n",
       "      <th>ToOrganization</th>\n",
       "      <th>Contact</th>\n",
       "    </tr>\n",
       "  </thead>\n",
       "  <tbody>\n",
       "    <tr>\n",
       "      <th>0</th>\n",
       "      <td>phillip.allen@enron.com</td>\n",
       "      <td>tim.belden@enron.com</td>\n",
       "      <td>NaN</td>\n",
       "      <td>Mon, 14 May 2001 16:39:00 ...</td>\n",
       "      <td>Here is our forecast</td>\n",
       "      <td>enron</td>\n",
       "      <td>tim.belden</td>\n",
       "    </tr>\n",
       "    <tr>\n",
       "      <th>1</th>\n",
       "      <td>phillip.allen@enron.com</td>\n",
       "      <td>john.lavorato@enron.com</td>\n",
       "      <td>Re:</td>\n",
       "      <td>Fri, 4 May 2001 13:51:00 -...</td>\n",
       "      <td>Traveling to have a busin...</td>\n",
       "      <td>enron</td>\n",
       "      <td>john.lavorato</td>\n",
       "    </tr>\n",
       "    <tr>\n",
       "      <th>2</th>\n",
       "      <td>phillip.allen@enron.com</td>\n",
       "      <td>leah.arsdall@enron.com</td>\n",
       "      <td>Re: test</td>\n",
       "      <td>Wed, 18 Oct 2000 03:00:00 ...</td>\n",
       "      <td>test successful.  way to ...</td>\n",
       "      <td>enron</td>\n",
       "      <td>leah.arsdall</td>\n",
       "    </tr>\n",
       "    <tr>\n",
       "      <th>3</th>\n",
       "      <td>phillip.allen@enron.com</td>\n",
       "      <td>randall.gay@enron.com</td>\n",
       "      <td>NaN</td>\n",
       "      <td>Mon, 23 Oct 2000 06:13:00 ...</td>\n",
       "      <td>Randy, Can you send me a ...</td>\n",
       "      <td>enron</td>\n",
       "      <td>randall.gay</td>\n",
       "    </tr>\n",
       "    <tr>\n",
       "      <th>4</th>\n",
       "      <td>phillip.allen@enron.com</td>\n",
       "      <td>greg.piper@enron.com</td>\n",
       "      <td>Re: Hello</td>\n",
       "      <td>Thu, 31 Aug 2000 05:07:00 ...</td>\n",
       "      <td>Let's shoot for Tuesday a...</td>\n",
       "      <td>enron</td>\n",
       "      <td>greg.piper</td>\n",
       "    </tr>\n",
       "    <tr>\n",
       "      <th>5</th>\n",
       "      <td>phillip.allen@enron.com</td>\n",
       "      <td>greg.piper@enron.com</td>\n",
       "      <td>Re: Hello</td>\n",
       "      <td>Thu, 31 Aug 2000 04:17:00 ...</td>\n",
       "      <td>Greg, How about either ne...</td>\n",
       "      <td>enron</td>\n",
       "      <td>greg.piper</td>\n",
       "    </tr>\n",
       "    <tr>\n",
       "      <th>6</th>\n",
       "      <td>phillip.allen@enron.com</td>\n",
       "      <td>david.l.johnson@enron.com,...</td>\n",
       "      <td>NaN</td>\n",
       "      <td>Tue, 22 Aug 2000 07:44:00 ...</td>\n",
       "      <td>Please cc the following d...</td>\n",
       "      <td>enron</td>\n",
       "      <td>david.l.johnson</td>\n",
       "    </tr>\n",
       "    <tr>\n",
       "      <th>7</th>\n",
       "      <td>phillip.allen@enron.com</td>\n",
       "      <td>joyce.teixeira@enron.com</td>\n",
       "      <td>Re: PRC review - phone calls</td>\n",
       "      <td>Fri, 14 Jul 2000 06:59:00 ...</td>\n",
       "      <td>any morning between 10 an...</td>\n",
       "      <td>enron</td>\n",
       "      <td>joyce.teixeira</td>\n",
       "    </tr>\n",
       "    <tr>\n",
       "      <th>8</th>\n",
       "      <td>phillip.allen@enron.com</td>\n",
       "      <td>mark.scott@enron.com</td>\n",
       "      <td>Re: High Speed Internet Ac...</td>\n",
       "      <td>Tue, 17 Oct 2000 02:26:00 ...</td>\n",
       "      <td>1. login:  pallen pw: ke9...</td>\n",
       "      <td>enron</td>\n",
       "      <td>mark.scott</td>\n",
       "    </tr>\n",
       "    <tr>\n",
       "      <th>9</th>\n",
       "      <td>phillip.allen@enron.com</td>\n",
       "      <td>zimam@enron.com</td>\n",
       "      <td>FW: fixed forward or other...</td>\n",
       "      <td>Mon, 16 Oct 2000 06:44:00 ...</td>\n",
       "      <td>---------------------- Fo...</td>\n",
       "      <td>enron</td>\n",
       "      <td>zimam</td>\n",
       "    </tr>\n",
       "  </tbody>\n",
       "</table>\n",
       "</div>"
      ],
      "text/plain": [
       "                      From                             To  \\\n",
       "0  phillip.allen@enron.com           tim.belden@enron.com   \n",
       "1  phillip.allen@enron.com        john.lavorato@enron.com   \n",
       "2  phillip.allen@enron.com         leah.arsdall@enron.com   \n",
       "3  phillip.allen@enron.com          randall.gay@enron.com   \n",
       "4  phillip.allen@enron.com           greg.piper@enron.com   \n",
       "5  phillip.allen@enron.com           greg.piper@enron.com   \n",
       "6  phillip.allen@enron.com  david.l.johnson@enron.com,...   \n",
       "7  phillip.allen@enron.com       joyce.teixeira@enron.com   \n",
       "8  phillip.allen@enron.com           mark.scott@enron.com   \n",
       "9  phillip.allen@enron.com                zimam@enron.com   \n",
       "\n",
       "                         Subject                           Date  \\\n",
       "0                            NaN  Mon, 14 May 2001 16:39:00 ...   \n",
       "1                            Re:  Fri, 4 May 2001 13:51:00 -...   \n",
       "2                       Re: test  Wed, 18 Oct 2000 03:00:00 ...   \n",
       "3                            NaN  Mon, 23 Oct 2000 06:13:00 ...   \n",
       "4                      Re: Hello  Thu, 31 Aug 2000 05:07:00 ...   \n",
       "5                      Re: Hello  Thu, 31 Aug 2000 04:17:00 ...   \n",
       "6                            NaN  Tue, 22 Aug 2000 07:44:00 ...   \n",
       "7   Re: PRC review - phone calls  Fri, 14 Jul 2000 06:59:00 ...   \n",
       "8  Re: High Speed Internet Ac...  Tue, 17 Oct 2000 02:26:00 ...   \n",
       "9  FW: fixed forward or other...  Mon, 16 Oct 2000 06:44:00 ...   \n",
       "\n",
       "                            Text ToOrganization          Contact  \n",
       "0          Here is our forecast           enron       tim.belden  \n",
       "1   Traveling to have a busin...          enron    john.lavorato  \n",
       "2   test successful.  way to ...          enron     leah.arsdall  \n",
       "3   Randy, Can you send me a ...          enron      randall.gay  \n",
       "4   Let's shoot for Tuesday a...          enron       greg.piper  \n",
       "5   Greg, How about either ne...          enron       greg.piper  \n",
       "6   Please cc the following d...          enron  david.l.johnson  \n",
       "7   any morning between 10 an...          enron   joyce.teixeira  \n",
       "8   1. login:  pallen pw: ke9...          enron       mark.scott  \n",
       "9   ---------------------- Fo...          enron            zimam  "
      ]
     },
     "execution_count": 7,
     "metadata": {},
     "output_type": "execute_result"
    }
   ],
   "source": [
    "pattern = r'([A-Z0-9._%+-]+)@([A-Z0-9.-]+)\\.([A-Z]{2,4})'\n",
    "regex = re.compile(pattern, flags=re.IGNORECASE)\n",
    "organizations = []\n",
    "contact = []\n",
    "for email in df['To']:\n",
    "    if regex.match(email):\n",
    "        organizations.append(regex.match(email).groups()[1])\n",
    "        contact.append(regex.match(email).groups()[0])\n",
    "    else:\n",
    "        organizations.append('')\n",
    "        contact.append('')\n",
    "\n",
    "df['ToOrganization'] = organizations\n",
    "df['Contact'] = contact\n",
    "df.head(10)"
   ]
  },
  {
   "cell_type": "markdown",
   "metadata": {},
   "source": [
    "## Calculate the most sent domain name\n",
    "- may be the organization name"
   ]
  },
  {
   "cell_type": "code",
   "execution_count": 8,
   "metadata": {
    "collapsed": false
   },
   "outputs": [
    {
     "data": {
      "text/plain": [
       "enron                343\n",
       "hotmail               87\n",
       "austintx              38\n",
       "austin.rr             32\n",
       "aol                   14\n",
       "yahoo                 12\n",
       "natsource              7\n",
       "keyad                  7\n",
       "intelligencepress      7\n",
       "rssmb                  6\n",
       "caprock                4\n",
       "creativepanel          4\n",
       "webtv                  3\n",
       "thedoghousemail        3\n",
       "spbank                 2\n",
       "juno                   2\n",
       "sempratrading          2\n",
       "thermon                2\n",
       "ev1                    2\n",
       "pdq                    2\n",
       "Name: ToOrganization, dtype: int64"
      ]
     },
     "execution_count": 8,
     "metadata": {},
     "output_type": "execute_result"
    }
   ],
   "source": [
    "# select the top 20\n",
    "df['ToOrganization'].value_counts()[:20]"
   ]
  },
  {
   "cell_type": "markdown",
   "metadata": {},
   "source": [
    "## Calculate the most contact person"
   ]
  },
  {
   "cell_type": "code",
   "execution_count": 9,
   "metadata": {
    "collapsed": false
   },
   "outputs": [
    {
     "data": {
      "text/plain": [
       "stagecoachmama     40\n",
       "ina.rangel         38\n",
       "jsmith             38\n",
       "mike.grigsby       30\n",
       "pallen70           28\n",
       "keith.holst        28\n",
       "cbpres             22\n",
       "john.lavorato      16\n",
       "maryrichards7      15\n",
       "jacquestc          14\n",
       "matthew.lenhart    12\n",
       "llewter            11\n",
       "jeff.richter        9\n",
       "rlehmann            8\n",
       "stouchstone         7\n",
       "tim.belden          6\n",
       "gthorse             6\n",
       "andrea.richards     6\n",
       "mac.d.hargrove      6\n",
       "frank.ermis         5\n",
       "Name: Contact, dtype: int64"
      ]
     },
     "execution_count": 9,
     "metadata": {},
     "output_type": "execute_result"
    }
   ],
   "source": [
    "# select the top 20\n",
    "df['Contact'].value_counts()[:20]"
   ]
  },
  {
   "cell_type": "markdown",
   "metadata": {},
   "source": [
    "## Analyze email main text\n",
    "- Process main text by Natural language processing\n",
    "- Count the words frequencies\n",
    "- The preparation for more analysis like sentiment analysis"
   ]
  },
  {
   "cell_type": "code",
   "execution_count": 10,
   "metadata": {
    "collapsed": false
   },
   "outputs": [
    {
     "data": {
      "text/plain": [
       "[('draft', 3),\n",
       " ('divert', 3),\n",
       " ('mbd', 2),\n",
       " ('physically', 2),\n",
       " ('0817', 2),\n",
       " ('pm', 2),\n",
       " ('phillip', 2),\n",
       " ('short', 2),\n",
       " ('sentence', 2),\n",
       " ('oraturn', 2)]"
      ]
     },
     "execution_count": 10,
     "metadata": {},
     "output_type": "execute_result"
    }
   ],
   "source": [
    "# Randomly select text in one email\n",
    "# Turn to lower case\n",
    "email_text = df['Text'][500].lower()\n",
    "# Remove punctuation\n",
    "words = \"\".join([ch for ch in email_text if ch not in string.punctuation])\n",
    "# Split the words\n",
    "tokens = nltk.word_tokenize(words)\n",
    "# Remove stop words\n",
    "filtered = [w for w in tokens if not w in stopwords.words('english')]\n",
    "# Code for stemming used in predition\n",
    "# lanste = LancasterStemmer()\n",
    "# stemmed = [lanste.stem(i) for i in filtered]\n",
    "\n",
    "# Count top 10 used words\n",
    "count = Counter(filtered)\n",
    "count.most_common(10)"
   ]
  },
  {
   "cell_type": "markdown",
   "metadata": {},
   "source": [
    "## Select the most frequently contact \"stagecoachmama\"\n",
    "- All emails between stagecoachmama and phillip.allen\n",
    "- Count wodrs phillip.allen like to use in the emails to stagecoachmama"
   ]
  },
  {
   "cell_type": "code",
   "execution_count": 11,
   "metadata": {
    "collapsed": false
   },
   "outputs": [
    {
     "data": {
      "text/plain": [
       "[('I', 68),\n",
       " ('rent', 23),\n",
       " ('need', 21),\n",
       " ('paid', 21),\n",
       " ('rentroll', 21),\n",
       " ('email', 17),\n",
       " ('Lucy', 17),\n",
       " ('get', 16),\n",
       " ('file', 13),\n",
       " ('week', 13),\n",
       " ('questions', 12),\n",
       " ('If', 12),\n",
       " ('The', 12),\n",
       " ('tenants', 12),\n",
       " ('pay', 12),\n",
       " ('missed', 11),\n",
       " ('going', 10),\n",
       " ('It', 10),\n",
       " ('You', 10),\n",
       " ('want', 10)]"
      ]
     },
     "execution_count": 11,
     "metadata": {},
     "output_type": "execute_result"
    }
   ],
   "source": [
    "# Group the DataFrame by 'Contact' column and combine all text to 'stagecoachmama'\n",
    "email_text = (\" \").join(df.groupby('Contact')['Text'].apply(list)['stagecoachmama'])\n",
    "\n",
    "# The same process as before\n",
    "words = \"\".join([ch for ch in email_text if ch not in string.punctuation])\n",
    "tokens = nltk.word_tokenize(words)\n",
    "filtered = [w for w in tokens if not w in stopwords.words('english')]\n",
    "# lanste = LancasterStemmer()\n",
    "# stemmed = [lanste.stem(i) for i in filtered]\n",
    "count = Counter(filtered)\n",
    "words_used = count.most_common(20)\n",
    "words_used"
   ]
  },
  {
   "cell_type": "markdown",
   "metadata": {},
   "source": [
    "## A simple visulization about last result"
   ]
  },
  {
   "cell_type": "code",
   "execution_count": 12,
   "metadata": {
    "collapsed": false
   },
   "outputs": [
    {
     "data": {
      "image/png": "[encoded data removed]",
      "text/plain": [
       "<matplotlib.figure.Figure at 0x8ada8d0>"
      ]
     },
     "metadata": {},
     "output_type": "display_data"
    }
   ],
   "source": [
    "fig = plt.figure(figsize=(18,6), dpi=1600) \n",
    "x_val = [x[0] for x in words_used]\n",
    "y_val = [x[1] for x in words_used]\n",
    "\n",
    "ind = np.arange(len(x_val))\n",
    "\n",
    "plt.bar(ind, y_val, width=0.55, align='center')\n",
    "plt.xticks(ind, x_val, rotation='vertical')\n",
    "plt.xlim(-1, 20)\n",
    "plt.ylabel(\"Words Frequency\")\n",
    "plt.title(\"Most used words in emails between phillip.allen and stagecoachmama\")\n",
    "plt.show()"
   ]
  },
  {
   "cell_type": "markdown",
   "metadata": {},
   "source": [
    "## What can be done next?\n",
    "### For example, sentiment analysis\n",
    "- Find a email datasets containing the sentiment classification\n",
    "- Build classification model from this datasets\n",
    "- Use this model to predict the email text of phillip.allen\n",
    "- Get a sentiment prediction to show the emotion of phillip.allen when he wrote emails to every one in the datasets"
   ]
  },
  {
   "cell_type": "markdown",
   "metadata": {},
   "source": [
    "## What can be improved?\n",
    "### Many, like\n",
    "- multi email addresses in 'To' column\n",
    "- Remove the forward information in email main text\n",
    "- parse the date\n",
    "- extract more features, like identifying whether it's a reply, forward or new email."
   ]
  },
  {
   "cell_type": "code",
   "execution_count": null,
   "metadata": {
    "collapsed": true
   },
   "outputs": [],
   "source": []
  }
 ],
 "metadata": {
  "kernelspec": {
   "display_name": "Python 3",
   "language": "python",
   "name": "python3"
  },
  "language_info": {
   "codemirror_mode": {
    "name": "ipython",
    "version": 3
   },
   "file_extension": ".py",
   "mimetype": "text/x-python",
   "name": "python",
   "nbconvert_exporter": "python",
   "pygments_lexer": "ipython3",
   "version": "3.4.3"
  }
 },
 "nbformat": 4,
 "nbformat_minor": 0
}
